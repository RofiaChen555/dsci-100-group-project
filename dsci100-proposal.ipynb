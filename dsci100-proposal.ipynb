{
 "cells": [
  {
   "cell_type": "code",
   "execution_count": 1,
   "id": "f24d8899-8b06-4fc5-ae3d-99364b443e50",
   "metadata": {},
   "outputs": [
    {
     "name": "stderr",
     "output_type": "stream",
     "text": [
      "── \u001b[1mAttaching packages\u001b[22m ─────────────────────────────────────── tidyverse 1.3.1 ──\n",
      "\n",
      "\u001b[32m✔\u001b[39m \u001b[34mggplot2\u001b[39m 3.3.6     \u001b[32m✔\u001b[39m \u001b[34mpurrr  \u001b[39m 0.3.4\n",
      "\u001b[32m✔\u001b[39m \u001b[34mtibble \u001b[39m 3.1.7     \u001b[32m✔\u001b[39m \u001b[34mdplyr  \u001b[39m 1.0.9\n",
      "\u001b[32m✔\u001b[39m \u001b[34mtidyr  \u001b[39m 1.2.0     \u001b[32m✔\u001b[39m \u001b[34mstringr\u001b[39m 1.4.0\n",
      "\u001b[32m✔\u001b[39m \u001b[34mreadr  \u001b[39m 2.1.2     \u001b[32m✔\u001b[39m \u001b[34mforcats\u001b[39m 0.5.1\n",
      "\n",
      "── \u001b[1mConflicts\u001b[22m ────────────────────────────────────────── tidyverse_conflicts() ──\n",
      "\u001b[31m✖\u001b[39m \u001b[34mdplyr\u001b[39m::\u001b[32mfilter()\u001b[39m masks \u001b[34mstats\u001b[39m::filter()\n",
      "\u001b[31m✖\u001b[39m \u001b[34mdplyr\u001b[39m::\u001b[32mlag()\u001b[39m    masks \u001b[34mstats\u001b[39m::lag()\n",
      "\n",
      "\n",
      "Attaching package: ‘testthat’\n",
      "\n",
      "\n",
      "The following object is masked from ‘package:dplyr’:\n",
      "\n",
      "    matches\n",
      "\n",
      "\n",
      "The following object is masked from ‘package:purrr’:\n",
      "\n",
      "    is_null\n",
      "\n",
      "\n",
      "The following objects are masked from ‘package:readr’:\n",
      "\n",
      "    edition_get, local_edition\n",
      "\n",
      "\n",
      "The following object is masked from ‘package:tidyr’:\n",
      "\n",
      "    matches\n",
      "\n",
      "\n",
      "── \u001b[1mAttaching packages\u001b[22m ────────────────────────────────────── tidymodels 1.0.0 ──\n",
      "\n",
      "\u001b[32m✔\u001b[39m \u001b[34mbroom       \u001b[39m 1.0.0     \u001b[32m✔\u001b[39m \u001b[34mrsample     \u001b[39m 1.0.0\n",
      "\u001b[32m✔\u001b[39m \u001b[34mdials       \u001b[39m 1.0.0     \u001b[32m✔\u001b[39m \u001b[34mtune        \u001b[39m 1.0.0\n",
      "\u001b[32m✔\u001b[39m \u001b[34minfer       \u001b[39m 1.0.2     \u001b[32m✔\u001b[39m \u001b[34mworkflows   \u001b[39m 1.0.0\n",
      "\u001b[32m✔\u001b[39m \u001b[34mmodeldata   \u001b[39m 1.0.0     \u001b[32m✔\u001b[39m \u001b[34mworkflowsets\u001b[39m 1.0.0\n",
      "\u001b[32m✔\u001b[39m \u001b[34mparsnip     \u001b[39m 1.0.0     \u001b[32m✔\u001b[39m \u001b[34myardstick   \u001b[39m 1.0.0\n",
      "\u001b[32m✔\u001b[39m \u001b[34mrecipes     \u001b[39m 1.0.1     \n",
      "\n",
      "── \u001b[1mConflicts\u001b[22m ───────────────────────────────────────── tidymodels_conflicts() ──\n",
      "\u001b[31m✖\u001b[39m \u001b[34mscales\u001b[39m::\u001b[32mdiscard()\u001b[39m   masks \u001b[34mpurrr\u001b[39m::discard()\n",
      "\u001b[31m✖\u001b[39m \u001b[34mdplyr\u001b[39m::\u001b[32mfilter()\u001b[39m     masks \u001b[34mstats\u001b[39m::filter()\n",
      "\u001b[31m✖\u001b[39m \u001b[34mrecipes\u001b[39m::\u001b[32mfixed()\u001b[39m    masks \u001b[34mstringr\u001b[39m::fixed()\n",
      "\u001b[31m✖\u001b[39m \u001b[34mtestthat\u001b[39m::\u001b[32mis_null()\u001b[39m masks \u001b[34mpurrr\u001b[39m::is_null()\n",
      "\u001b[31m✖\u001b[39m \u001b[34mdplyr\u001b[39m::\u001b[32mlag()\u001b[39m        masks \u001b[34mstats\u001b[39m::lag()\n",
      "\u001b[31m✖\u001b[39m \u001b[34mrsample\u001b[39m::\u001b[32mmatches()\u001b[39m  masks \u001b[34mtestthat\u001b[39m::matches(), \u001b[34mdplyr\u001b[39m::matches(), \u001b[34mtidyr\u001b[39m::matches()\n",
      "\u001b[31m✖\u001b[39m \u001b[34myardstick\u001b[39m::\u001b[32mspec()\u001b[39m   masks \u001b[34mreadr\u001b[39m::spec()\n",
      "\u001b[31m✖\u001b[39m \u001b[34mrecipes\u001b[39m::\u001b[32mstep()\u001b[39m     masks \u001b[34mstats\u001b[39m::step()\n",
      "\u001b[34m•\u001b[39m Use suppressPackageStartupMessages() to eliminate package startup messages\n",
      "\n",
      "Warning message in file(filename, \"r\", encoding = encoding):\n",
      "“cannot open file 'tests.R': No such file or directory”\n"
     ]
    },
    {
     "ename": "ERROR",
     "evalue": "Error in file(filename, \"r\", encoding = encoding): cannot open the connection\n",
     "output_type": "error",
     "traceback": [
      "Error in file(filename, \"r\", encoding = encoding): cannot open the connection\nTraceback:\n",
      "1. source(\"tests.R\")",
      "2. file(filename, \"r\", encoding = encoding)"
     ]
    }
   ],
   "source": [
    "library(tidyverse)\n",
    "library(testthat)\n",
    "library(digest)\n",
    "library(repr)\n",
    "library(tidymodels)\n",
    "options(repr.matrix.max.rows = 6)\n",
    "source(\"tests.R\")\n",
    "source('cleanup.R')"
   ]
  },
  {
   "cell_type": "code",
   "execution_count": 2,
   "id": "4e46fca1-5fd5-46e3-9f8b-cceeedccad76",
   "metadata": {},
   "outputs": [
    {
     "name": "stderr",
     "output_type": "stream",
     "text": [
      "\u001b[1mRows: \u001b[22m\u001b[34m776\u001b[39m \u001b[1mColumns: \u001b[22m\u001b[34m18\u001b[39m\n",
      "\u001b[36m──\u001b[39m \u001b[1mColumn specification\u001b[22m \u001b[36m────────────────────────────────────────────────────────\u001b[39m\n",
      "\u001b[1mDelimiter:\u001b[22m \",\"\n",
      "\u001b[31mchr\u001b[39m  (1): LOCATION_ID\n",
      "\u001b[32mdbl\u001b[39m (17): Sector_score, PARA_A, SCORE_A, PARA_B, SCORE_B, TOTAL, numbers, Ma...\n",
      "\n",
      "\u001b[36mℹ\u001b[39m Use `spec()` to retrieve the full column specification for this data.\n",
      "\u001b[36mℹ\u001b[39m Specify the column types or set `show_col_types = FALSE` to quiet this message.\n"
     ]
    },
    {
     "data": {
      "text/html": [
       "<table class=\"dataframe\">\n",
       "<caption>A spec_tbl_df: 776 × 18</caption>\n",
       "<thead>\n",
       "\t<tr><th scope=col>Sector_score</th><th scope=col>LOCATION_ID</th><th scope=col>PARA_A</th><th scope=col>SCORE_A</th><th scope=col>PARA_B</th><th scope=col>SCORE_B</th><th scope=col>TOTAL</th><th scope=col>numbers</th><th scope=col>Marks</th><th scope=col>Money_Value</th><th scope=col>MONEY_Marks</th><th scope=col>District</th><th scope=col>Loss</th><th scope=col>LOSS_SCORE</th><th scope=col>History</th><th scope=col>History_score</th><th scope=col>Score</th><th scope=col>Risk</th></tr>\n",
       "\t<tr><th scope=col>&lt;dbl&gt;</th><th scope=col>&lt;chr&gt;</th><th scope=col>&lt;dbl&gt;</th><th scope=col>&lt;dbl&gt;</th><th scope=col>&lt;dbl&gt;</th><th scope=col>&lt;dbl&gt;</th><th scope=col>&lt;dbl&gt;</th><th scope=col>&lt;dbl&gt;</th><th scope=col>&lt;dbl&gt;</th><th scope=col>&lt;dbl&gt;</th><th scope=col>&lt;dbl&gt;</th><th scope=col>&lt;dbl&gt;</th><th scope=col>&lt;dbl&gt;</th><th scope=col>&lt;dbl&gt;</th><th scope=col>&lt;dbl&gt;</th><th scope=col>&lt;dbl&gt;</th><th scope=col>&lt;dbl&gt;</th><th scope=col>&lt;dbl&gt;</th></tr>\n",
       "</thead>\n",
       "<tbody>\n",
       "\t<tr><td>3.89</td><td>23</td><td>4.18</td><td>6</td><td>2.50</td><td>2</td><td>6.68</td><td>5</td><td>2</td><td>3.38</td><td>2</td><td>2</td><td>0</td><td>2</td><td>0</td><td>2</td><td>2.4</td><td>1</td></tr>\n",
       "\t<tr><td>3.89</td><td>6 </td><td>0.00</td><td>2</td><td>4.83</td><td>2</td><td>4.83</td><td>5</td><td>2</td><td>0.94</td><td>2</td><td>2</td><td>0</td><td>2</td><td>0</td><td>2</td><td>2.0</td><td>0</td></tr>\n",
       "\t<tr><td>3.89</td><td>6 </td><td>0.51</td><td>2</td><td>0.23</td><td>2</td><td>0.74</td><td>5</td><td>2</td><td>0.00</td><td>2</td><td>2</td><td>0</td><td>2</td><td>0</td><td>2</td><td>2.0</td><td>0</td></tr>\n",
       "\t<tr><td>⋮</td><td>⋮</td><td>⋮</td><td>⋮</td><td>⋮</td><td>⋮</td><td>⋮</td><td>⋮</td><td>⋮</td><td>⋮</td><td>⋮</td><td>⋮</td><td>⋮</td><td>⋮</td><td>⋮</td><td>⋮</td><td>⋮</td><td>⋮</td></tr>\n",
       "\t<tr><td>55.57</td><td>14</td><td>0.24</td><td>2</td><td>0.04</td><td>2</td><td>0.28</td><td>5</td><td>2</td><td>0.00</td><td>2</td><td>2</td><td>0</td><td>2</td><td>0</td><td>2</td><td>2</td><td>0</td></tr>\n",
       "\t<tr><td>55.57</td><td>18</td><td>0.20</td><td>2</td><td>0.00</td><td>2</td><td>0.20</td><td>5</td><td>2</td><td>0.00</td><td>2</td><td>2</td><td>0</td><td>2</td><td>0</td><td>2</td><td>2</td><td>0</td></tr>\n",
       "\t<tr><td>55.57</td><td>15</td><td>0.00</td><td>2</td><td>0.00</td><td>2</td><td>0.00</td><td>5</td><td>2</td><td>0.32</td><td>2</td><td>2</td><td>0</td><td>2</td><td>0</td><td>2</td><td>2</td><td>0</td></tr>\n",
       "</tbody>\n",
       "</table>\n"
      ],
      "text/latex": [
       "A spec\\_tbl\\_df: 776 × 18\n",
       "\\begin{tabular}{llllllllllllllllll}\n",
       " Sector\\_score & LOCATION\\_ID & PARA\\_A & SCORE\\_A & PARA\\_B & SCORE\\_B & TOTAL & numbers & Marks & Money\\_Value & MONEY\\_Marks & District & Loss & LOSS\\_SCORE & History & History\\_score & Score & Risk\\\\\n",
       " <dbl> & <chr> & <dbl> & <dbl> & <dbl> & <dbl> & <dbl> & <dbl> & <dbl> & <dbl> & <dbl> & <dbl> & <dbl> & <dbl> & <dbl> & <dbl> & <dbl> & <dbl>\\\\\n",
       "\\hline\n",
       "\t 3.89 & 23 & 4.18 & 6 & 2.50 & 2 & 6.68 & 5 & 2 & 3.38 & 2 & 2 & 0 & 2 & 0 & 2 & 2.4 & 1\\\\\n",
       "\t 3.89 & 6  & 0.00 & 2 & 4.83 & 2 & 4.83 & 5 & 2 & 0.94 & 2 & 2 & 0 & 2 & 0 & 2 & 2.0 & 0\\\\\n",
       "\t 3.89 & 6  & 0.51 & 2 & 0.23 & 2 & 0.74 & 5 & 2 & 0.00 & 2 & 2 & 0 & 2 & 0 & 2 & 2.0 & 0\\\\\n",
       "\t ⋮ & ⋮ & ⋮ & ⋮ & ⋮ & ⋮ & ⋮ & ⋮ & ⋮ & ⋮ & ⋮ & ⋮ & ⋮ & ⋮ & ⋮ & ⋮ & ⋮ & ⋮\\\\\n",
       "\t 55.57 & 14 & 0.24 & 2 & 0.04 & 2 & 0.28 & 5 & 2 & 0.00 & 2 & 2 & 0 & 2 & 0 & 2 & 2 & 0\\\\\n",
       "\t 55.57 & 18 & 0.20 & 2 & 0.00 & 2 & 0.20 & 5 & 2 & 0.00 & 2 & 2 & 0 & 2 & 0 & 2 & 2 & 0\\\\\n",
       "\t 55.57 & 15 & 0.00 & 2 & 0.00 & 2 & 0.00 & 5 & 2 & 0.32 & 2 & 2 & 0 & 2 & 0 & 2 & 2 & 0\\\\\n",
       "\\end{tabular}\n"
      ],
      "text/markdown": [
       "\n",
       "A spec_tbl_df: 776 × 18\n",
       "\n",
       "| Sector_score &lt;dbl&gt; | LOCATION_ID &lt;chr&gt; | PARA_A &lt;dbl&gt; | SCORE_A &lt;dbl&gt; | PARA_B &lt;dbl&gt; | SCORE_B &lt;dbl&gt; | TOTAL &lt;dbl&gt; | numbers &lt;dbl&gt; | Marks &lt;dbl&gt; | Money_Value &lt;dbl&gt; | MONEY_Marks &lt;dbl&gt; | District &lt;dbl&gt; | Loss &lt;dbl&gt; | LOSS_SCORE &lt;dbl&gt; | History &lt;dbl&gt; | History_score &lt;dbl&gt; | Score &lt;dbl&gt; | Risk &lt;dbl&gt; |\n",
       "|---|---|---|---|---|---|---|---|---|---|---|---|---|---|---|---|---|---|\n",
       "| 3.89 | 23 | 4.18 | 6 | 2.50 | 2 | 6.68 | 5 | 2 | 3.38 | 2 | 2 | 0 | 2 | 0 | 2 | 2.4 | 1 |\n",
       "| 3.89 | 6  | 0.00 | 2 | 4.83 | 2 | 4.83 | 5 | 2 | 0.94 | 2 | 2 | 0 | 2 | 0 | 2 | 2.0 | 0 |\n",
       "| 3.89 | 6  | 0.51 | 2 | 0.23 | 2 | 0.74 | 5 | 2 | 0.00 | 2 | 2 | 0 | 2 | 0 | 2 | 2.0 | 0 |\n",
       "| ⋮ | ⋮ | ⋮ | ⋮ | ⋮ | ⋮ | ⋮ | ⋮ | ⋮ | ⋮ | ⋮ | ⋮ | ⋮ | ⋮ | ⋮ | ⋮ | ⋮ | ⋮ |\n",
       "| 55.57 | 14 | 0.24 | 2 | 0.04 | 2 | 0.28 | 5 | 2 | 0.00 | 2 | 2 | 0 | 2 | 0 | 2 | 2 | 0 |\n",
       "| 55.57 | 18 | 0.20 | 2 | 0.00 | 2 | 0.20 | 5 | 2 | 0.00 | 2 | 2 | 0 | 2 | 0 | 2 | 2 | 0 |\n",
       "| 55.57 | 15 | 0.00 | 2 | 0.00 | 2 | 0.00 | 5 | 2 | 0.32 | 2 | 2 | 0 | 2 | 0 | 2 | 2 | 0 |\n",
       "\n"
      ],
      "text/plain": [
       "    Sector_score LOCATION_ID PARA_A SCORE_A PARA_B SCORE_B TOTAL numbers Marks\n",
       "1   3.89         23          4.18   6       2.50   2       6.68  5       2    \n",
       "2   3.89         6           0.00   2       4.83   2       4.83  5       2    \n",
       "3   3.89         6           0.51   2       0.23   2       0.74  5       2    \n",
       "⋮   ⋮            ⋮           ⋮      ⋮       ⋮      ⋮       ⋮     ⋮       ⋮    \n",
       "774 55.57        14          0.24   2       0.04   2       0.28  5       2    \n",
       "775 55.57        18          0.20   2       0.00   2       0.20  5       2    \n",
       "776 55.57        15          0.00   2       0.00   2       0.00  5       2    \n",
       "    Money_Value MONEY_Marks District Loss LOSS_SCORE History History_score\n",
       "1   3.38        2           2        0    2          0       2            \n",
       "2   0.94        2           2        0    2          0       2            \n",
       "3   0.00        2           2        0    2          0       2            \n",
       "⋮   ⋮           ⋮           ⋮        ⋮    ⋮          ⋮       ⋮            \n",
       "774 0.00        2           2        0    2          0       2            \n",
       "775 0.00        2           2        0    2          0       2            \n",
       "776 0.32        2           2        0    2          0       2            \n",
       "    Score Risk\n",
       "1   2.4   1   \n",
       "2   2.0   0   \n",
       "3   2.0   0   \n",
       "⋮   ⋮     ⋮   \n",
       "774 2     0   \n",
       "775 2     0   \n",
       "776 2     0   "
      ]
     },
     "metadata": {},
     "output_type": "display_data"
    }
   ],
   "source": [
    "audit_trial <- read_csv(\"trial.csv\")\n",
    "audit_trial"
   ]
  },
  {
   "cell_type": "code",
   "execution_count": 22,
   "id": "e699228a-f59a-42a1-b986-eb786629602d",
   "metadata": {},
   "outputs": [],
   "source": [
    "audit_trial_split <- initial_split(audit_trial, prop = 0.75, strata = TOTAL)\n",
    "audit_trial_train <- training(audit_trial_split)\n",
    "audit_trial_test <- testing(audit_trial_split)"
   ]
  },
  {
   "cell_type": "code",
   "execution_count": 26,
   "id": "144eda9a-23f6-481a-ad8d-2add2df32ced",
   "metadata": {},
   "outputs": [
    {
     "data": {
      "text/html": [
       "<table class=\"dataframe\">\n",
       "<caption>A tibble: 580 × 18</caption>\n",
       "<thead>\n",
       "\t<tr><th scope=col>Sector_score</th><th scope=col>LOCATION_ID</th><th scope=col>PARA_A</th><th scope=col>SCORE_A</th><th scope=col>PARA_B</th><th scope=col>SCORE_B</th><th scope=col>TOTAL</th><th scope=col>numbers</th><th scope=col>Marks</th><th scope=col>Money_Value</th><th scope=col>MONEY_Marks</th><th scope=col>District</th><th scope=col>Loss</th><th scope=col>LOSS_SCORE</th><th scope=col>History</th><th scope=col>History_score</th><th scope=col>Score</th><th scope=col>Risk</th></tr>\n",
       "\t<tr><th scope=col>&lt;dbl&gt;</th><th scope=col>&lt;chr&gt;</th><th scope=col>&lt;dbl&gt;</th><th scope=col>&lt;dbl&gt;</th><th scope=col>&lt;dbl&gt;</th><th scope=col>&lt;dbl&gt;</th><th scope=col>&lt;dbl&gt;</th><th scope=col>&lt;dbl&gt;</th><th scope=col>&lt;dbl&gt;</th><th scope=col>&lt;dbl&gt;</th><th scope=col>&lt;dbl&gt;</th><th scope=col>&lt;dbl&gt;</th><th scope=col>&lt;dbl&gt;</th><th scope=col>&lt;dbl&gt;</th><th scope=col>&lt;dbl&gt;</th><th scope=col>&lt;dbl&gt;</th><th scope=col>&lt;dbl&gt;</th><th scope=col>&lt;dbl&gt;</th></tr>\n",
       "</thead>\n",
       "<tbody>\n",
       "\t<tr><td>3.89</td><td>6 </td><td>0</td><td>2</td><td>0.08</td><td>2</td><td>0.08</td><td>5</td><td>2</td><td>0.00</td><td>2</td><td>2</td><td>0</td><td>2</td><td>0</td><td>2</td><td>2</td><td>0</td></tr>\n",
       "\t<tr><td>3.89</td><td>19</td><td>0</td><td>2</td><td>0.00</td><td>2</td><td>0.00</td><td>5</td><td>2</td><td>0.00</td><td>2</td><td>2</td><td>0</td><td>2</td><td>0</td><td>2</td><td>2</td><td>0</td></tr>\n",
       "\t<tr><td>3.89</td><td>11</td><td>0</td><td>2</td><td>0.00</td><td>2</td><td>0.00</td><td>5</td><td>2</td><td>1.75</td><td>2</td><td>2</td><td>0</td><td>2</td><td>0</td><td>2</td><td>2</td><td>0</td></tr>\n",
       "\t<tr><td>⋮</td><td>⋮</td><td>⋮</td><td>⋮</td><td>⋮</td><td>⋮</td><td>⋮</td><td>⋮</td><td>⋮</td><td>⋮</td><td>⋮</td><td>⋮</td><td>⋮</td><td>⋮</td><td>⋮</td><td>⋮</td><td>⋮</td><td>⋮</td></tr>\n",
       "\t<tr><td>55.57</td><td>12</td><td>3.10</td><td>6</td><td>4.66</td><td>6</td><td>7.76</td><td>5</td><td>2</td><td>0.59</td><td>2</td><td>2</td><td>0</td><td>2</td><td>0</td><td>2</td><td>3.6</td><td>1</td></tr>\n",
       "\t<tr><td>55.57</td><td>8 </td><td>0.45</td><td>2</td><td>8.27</td><td>6</td><td>8.72</td><td>5</td><td>2</td><td>9.43</td><td>4</td><td>4</td><td>0</td><td>2</td><td>0</td><td>2</td><td>3.6</td><td>1</td></tr>\n",
       "\t<tr><td>55.57</td><td>32</td><td>0.00</td><td>2</td><td>8.49</td><td>6</td><td>8.49</td><td>5</td><td>2</td><td>0.43</td><td>2</td><td>2</td><td>0</td><td>2</td><td>0</td><td>2</td><td>3.2</td><td>1</td></tr>\n",
       "</tbody>\n",
       "</table>\n"
      ],
      "text/latex": [
       "A tibble: 580 × 18\n",
       "\\begin{tabular}{llllllllllllllllll}\n",
       " Sector\\_score & LOCATION\\_ID & PARA\\_A & SCORE\\_A & PARA\\_B & SCORE\\_B & TOTAL & numbers & Marks & Money\\_Value & MONEY\\_Marks & District & Loss & LOSS\\_SCORE & History & History\\_score & Score & Risk\\\\\n",
       " <dbl> & <chr> & <dbl> & <dbl> & <dbl> & <dbl> & <dbl> & <dbl> & <dbl> & <dbl> & <dbl> & <dbl> & <dbl> & <dbl> & <dbl> & <dbl> & <dbl> & <dbl>\\\\\n",
       "\\hline\n",
       "\t 3.89 & 6  & 0 & 2 & 0.08 & 2 & 0.08 & 5 & 2 & 0.00 & 2 & 2 & 0 & 2 & 0 & 2 & 2 & 0\\\\\n",
       "\t 3.89 & 19 & 0 & 2 & 0.00 & 2 & 0.00 & 5 & 2 & 0.00 & 2 & 2 & 0 & 2 & 0 & 2 & 2 & 0\\\\\n",
       "\t 3.89 & 11 & 0 & 2 & 0.00 & 2 & 0.00 & 5 & 2 & 1.75 & 2 & 2 & 0 & 2 & 0 & 2 & 2 & 0\\\\\n",
       "\t ⋮ & ⋮ & ⋮ & ⋮ & ⋮ & ⋮ & ⋮ & ⋮ & ⋮ & ⋮ & ⋮ & ⋮ & ⋮ & ⋮ & ⋮ & ⋮ & ⋮ & ⋮\\\\\n",
       "\t 55.57 & 12 & 3.10 & 6 & 4.66 & 6 & 7.76 & 5 & 2 & 0.59 & 2 & 2 & 0 & 2 & 0 & 2 & 3.6 & 1\\\\\n",
       "\t 55.57 & 8  & 0.45 & 2 & 8.27 & 6 & 8.72 & 5 & 2 & 9.43 & 4 & 4 & 0 & 2 & 0 & 2 & 3.6 & 1\\\\\n",
       "\t 55.57 & 32 & 0.00 & 2 & 8.49 & 6 & 8.49 & 5 & 2 & 0.43 & 2 & 2 & 0 & 2 & 0 & 2 & 3.2 & 1\\\\\n",
       "\\end{tabular}\n"
      ],
      "text/markdown": [
       "\n",
       "A tibble: 580 × 18\n",
       "\n",
       "| Sector_score &lt;dbl&gt; | LOCATION_ID &lt;chr&gt; | PARA_A &lt;dbl&gt; | SCORE_A &lt;dbl&gt; | PARA_B &lt;dbl&gt; | SCORE_B &lt;dbl&gt; | TOTAL &lt;dbl&gt; | numbers &lt;dbl&gt; | Marks &lt;dbl&gt; | Money_Value &lt;dbl&gt; | MONEY_Marks &lt;dbl&gt; | District &lt;dbl&gt; | Loss &lt;dbl&gt; | LOSS_SCORE &lt;dbl&gt; | History &lt;dbl&gt; | History_score &lt;dbl&gt; | Score &lt;dbl&gt; | Risk &lt;dbl&gt; |\n",
       "|---|---|---|---|---|---|---|---|---|---|---|---|---|---|---|---|---|---|\n",
       "| 3.89 | 6  | 0 | 2 | 0.08 | 2 | 0.08 | 5 | 2 | 0.00 | 2 | 2 | 0 | 2 | 0 | 2 | 2 | 0 |\n",
       "| 3.89 | 19 | 0 | 2 | 0.00 | 2 | 0.00 | 5 | 2 | 0.00 | 2 | 2 | 0 | 2 | 0 | 2 | 2 | 0 |\n",
       "| 3.89 | 11 | 0 | 2 | 0.00 | 2 | 0.00 | 5 | 2 | 1.75 | 2 | 2 | 0 | 2 | 0 | 2 | 2 | 0 |\n",
       "| ⋮ | ⋮ | ⋮ | ⋮ | ⋮ | ⋮ | ⋮ | ⋮ | ⋮ | ⋮ | ⋮ | ⋮ | ⋮ | ⋮ | ⋮ | ⋮ | ⋮ | ⋮ |\n",
       "| 55.57 | 12 | 3.10 | 6 | 4.66 | 6 | 7.76 | 5 | 2 | 0.59 | 2 | 2 | 0 | 2 | 0 | 2 | 3.6 | 1 |\n",
       "| 55.57 | 8  | 0.45 | 2 | 8.27 | 6 | 8.72 | 5 | 2 | 9.43 | 4 | 4 | 0 | 2 | 0 | 2 | 3.6 | 1 |\n",
       "| 55.57 | 32 | 0.00 | 2 | 8.49 | 6 | 8.49 | 5 | 2 | 0.43 | 2 | 2 | 0 | 2 | 0 | 2 | 3.2 | 1 |\n",
       "\n"
      ],
      "text/plain": [
       "    Sector_score LOCATION_ID PARA_A SCORE_A PARA_B SCORE_B TOTAL numbers Marks\n",
       "1   3.89         6           0      2       0.08   2       0.08  5       2    \n",
       "2   3.89         19          0      2       0.00   2       0.00  5       2    \n",
       "3   3.89         11          0      2       0.00   2       0.00  5       2    \n",
       "⋮   ⋮            ⋮           ⋮      ⋮       ⋮      ⋮       ⋮     ⋮       ⋮    \n",
       "578 55.57        12          3.10   6       4.66   6       7.76  5       2    \n",
       "579 55.57        8           0.45   2       8.27   6       8.72  5       2    \n",
       "580 55.57        32          0.00   2       8.49   6       8.49  5       2    \n",
       "    Money_Value MONEY_Marks District Loss LOSS_SCORE History History_score\n",
       "1   0.00        2           2        0    2          0       2            \n",
       "2   0.00        2           2        0    2          0       2            \n",
       "3   1.75        2           2        0    2          0       2            \n",
       "⋮   ⋮           ⋮           ⋮        ⋮    ⋮          ⋮       ⋮            \n",
       "578 0.59        2           2        0    2          0       2            \n",
       "579 9.43        4           4        0    2          0       2            \n",
       "580 0.43        2           2        0    2          0       2            \n",
       "    Score Risk\n",
       "1   2     0   \n",
       "2   2     0   \n",
       "3   2     0   \n",
       "⋮   ⋮     ⋮   \n",
       "578 3.6   1   \n",
       "579 3.6   1   \n",
       "580 3.2   1   "
      ]
     },
     "metadata": {},
     "output_type": "display_data"
    },
    {
     "data": {
      "text/html": [
       "<table class=\"dataframe\">\n",
       "<caption>A tibble: 13 × 3</caption>\n",
       "<thead>\n",
       "\t<tr><th scope=col>Sector_score</th><th scope=col>min_total</th><th scope=col>max_total</th></tr>\n",
       "\t<tr><th scope=col>&lt;dbl&gt;</th><th scope=col>&lt;dbl&gt;</th><th scope=col>&lt;dbl&gt;</th></tr>\n",
       "</thead>\n",
       "<tbody>\n",
       "\t<tr><td>1.85</td><td>0.00</td><td> 81.41</td></tr>\n",
       "\t<tr><td>1.99</td><td>0.29</td><td>191.36</td></tr>\n",
       "\t<tr><td>2.34</td><td>0.00</td><td>  0.00</td></tr>\n",
       "\t<tr><td>⋮</td><td>⋮</td><td>⋮</td></tr>\n",
       "\t<tr><td>21.61</td><td>0</td><td> 86.06</td></tr>\n",
       "\t<tr><td>55.57</td><td>0</td><td>114.49</td></tr>\n",
       "\t<tr><td>59.85</td><td>0</td><td>  8.63</td></tr>\n",
       "</tbody>\n",
       "</table>\n"
      ],
      "text/latex": [
       "A tibble: 13 × 3\n",
       "\\begin{tabular}{lll}\n",
       " Sector\\_score & min\\_total & max\\_total\\\\\n",
       " <dbl> & <dbl> & <dbl>\\\\\n",
       "\\hline\n",
       "\t 1.85 & 0.00 &  81.41\\\\\n",
       "\t 1.99 & 0.29 & 191.36\\\\\n",
       "\t 2.34 & 0.00 &   0.00\\\\\n",
       "\t ⋮ & ⋮ & ⋮\\\\\n",
       "\t 21.61 & 0 &  86.06\\\\\n",
       "\t 55.57 & 0 & 114.49\\\\\n",
       "\t 59.85 & 0 &   8.63\\\\\n",
       "\\end{tabular}\n"
      ],
      "text/markdown": [
       "\n",
       "A tibble: 13 × 3\n",
       "\n",
       "| Sector_score &lt;dbl&gt; | min_total &lt;dbl&gt; | max_total &lt;dbl&gt; |\n",
       "|---|---|---|\n",
       "| 1.85 | 0.00 |  81.41 |\n",
       "| 1.99 | 0.29 | 191.36 |\n",
       "| 2.34 | 0.00 |   0.00 |\n",
       "| ⋮ | ⋮ | ⋮ |\n",
       "| 21.61 | 0 |  86.06 |\n",
       "| 55.57 | 0 | 114.49 |\n",
       "| 59.85 | 0 |   8.63 |\n",
       "\n"
      ],
      "text/plain": [
       "   Sector_score min_total max_total\n",
       "1  1.85         0.00       81.41   \n",
       "2  1.99         0.29      191.36   \n",
       "3  2.34         0.00        0.00   \n",
       "⋮  ⋮            ⋮         ⋮        \n",
       "11 21.61        0          86.06   \n",
       "12 55.57        0         114.49   \n",
       "13 59.85        0           8.63   "
      ]
     },
     "metadata": {},
     "output_type": "display_data"
    },
    {
     "data": {
      "text/html": [
       "<table class=\"dataframe\">\n",
       "<caption>A tibble: 1 × 4</caption>\n",
       "<thead>\n",
       "\t<tr><th scope=col>PARA_A</th><th scope=col>SCORE_A</th><th scope=col>PARA_B</th><th scope=col>SCORE_B</th></tr>\n",
       "\t<tr><th scope=col>&lt;dbl&gt;</th><th scope=col>&lt;dbl&gt;</th><th scope=col>&lt;dbl&gt;</th><th scope=col>&lt;dbl&gt;</th></tr>\n",
       "</thead>\n",
       "<tbody>\n",
       "\t<tr><td>2.503155</td><td>3.493103</td><td>11.09422</td><td>3.110345</td></tr>\n",
       "</tbody>\n",
       "</table>\n"
      ],
      "text/latex": [
       "A tibble: 1 × 4\n",
       "\\begin{tabular}{llll}\n",
       " PARA\\_A & SCORE\\_A & PARA\\_B & SCORE\\_B\\\\\n",
       " <dbl> & <dbl> & <dbl> & <dbl>\\\\\n",
       "\\hline\n",
       "\t 2.503155 & 3.493103 & 11.09422 & 3.110345\\\\\n",
       "\\end{tabular}\n"
      ],
      "text/markdown": [
       "\n",
       "A tibble: 1 × 4\n",
       "\n",
       "| PARA_A &lt;dbl&gt; | SCORE_A &lt;dbl&gt; | PARA_B &lt;dbl&gt; | SCORE_B &lt;dbl&gt; |\n",
       "|---|---|---|---|\n",
       "| 2.503155 | 3.493103 | 11.09422 | 3.110345 |\n",
       "\n"
      ],
      "text/plain": [
       "  PARA_A   SCORE_A  PARA_B   SCORE_B \n",
       "1 2.503155 3.493103 11.09422 3.110345"
      ]
     },
     "metadata": {},
     "output_type": "display_data"
    },
    {
     "data": {
      "text/html": [
       "580"
      ],
      "text/latex": [
       "580"
      ],
      "text/markdown": [
       "580"
      ],
      "text/plain": [
       "[1] 580"
      ]
     },
     "metadata": {},
     "output_type": "display_data"
    }
   ],
   "source": [
    "audit_trial_train\n",
    "\n",
    "nrow(audit_trial_train)\n",
    "\n",
    "\n",
    "group_by(..., ...) |>\n",
    "summarize(min_total = min(..., na.rm = TRUE),\n",
    "          max_total = max(..., na.rm = TRUE))\n",
    "\n",
    "audit_trial_train |>\n",
    "summarize(across(...:..., mean, na.rm = TRUE))\n",
    "\n",
    "trail_plot <- ggplot(audit_trial_train, aes(x = ..., y = ...)) +\n",
    "  geom_point(alpha = 0.4) +\n",
    "  xlab(\"...\") +\n",
    "  ylab(\"...\") +\n",
    "  theme(text = element_text(size = 12))"
   ]
  },
  {
   "cell_type": "code",
   "execution_count": null,
   "id": "0233716b-dac5-44ca-8d48-a0614ff2984f",
   "metadata": {},
   "outputs": [],
   "source": []
  },
  {
   "cell_type": "code",
   "execution_count": null,
   "id": "590b6e7c-d1eb-4c7e-9c3e-b579f1d1dac5",
   "metadata": {},
   "outputs": [],
   "source": []
  }
 ],
 "metadata": {
  "kernelspec": {
   "display_name": "R",
   "language": "R",
   "name": "ir"
  },
  "language_info": {
   "codemirror_mode": "r",
   "file_extension": ".r",
   "mimetype": "text/x-r-source",
   "name": "R",
   "pygments_lexer": "r",
   "version": "4.1.3"
  }
 },
 "nbformat": 4,
 "nbformat_minor": 5
}
