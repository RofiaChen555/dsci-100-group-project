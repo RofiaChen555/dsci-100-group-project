{
 "cells": [
  {
   "cell_type": "code",
   "execution_count": 2,
   "id": "c1093d89-e91a-4e5d-9cb9-9d40fe173e48",
   "metadata": {},
   "outputs": [
    {
     "name": "stderr",
     "output_type": "stream",
     "text": [
      "── \u001b[1mAttaching packages\u001b[22m ─────────────────────────────────────── tidyverse 1.3.1 ──\n",
      "\n",
      "\u001b[32m✔\u001b[39m \u001b[34mggplot2\u001b[39m 3.3.6     \u001b[32m✔\u001b[39m \u001b[34mpurrr  \u001b[39m 0.3.4\n",
      "\u001b[32m✔\u001b[39m \u001b[34mtibble \u001b[39m 3.1.7     \u001b[32m✔\u001b[39m \u001b[34mdplyr  \u001b[39m 1.0.9\n",
      "\u001b[32m✔\u001b[39m \u001b[34mtidyr  \u001b[39m 1.2.0     \u001b[32m✔\u001b[39m \u001b[34mstringr\u001b[39m 1.4.0\n",
      "\u001b[32m✔\u001b[39m \u001b[34mreadr  \u001b[39m 2.1.2     \u001b[32m✔\u001b[39m \u001b[34mforcats\u001b[39m 0.5.1\n",
      "\n",
      "── \u001b[1mConflicts\u001b[22m ────────────────────────────────────────── tidyverse_conflicts() ──\n",
      "\u001b[31m✖\u001b[39m \u001b[34mdplyr\u001b[39m::\u001b[32mfilter()\u001b[39m masks \u001b[34mstats\u001b[39m::filter()\n",
      "\u001b[31m✖\u001b[39m \u001b[34mdplyr\u001b[39m::\u001b[32mlag()\u001b[39m    masks \u001b[34mstats\u001b[39m::lag()\n",
      "\n",
      "\n",
      "Attaching package: ‘testthat’\n",
      "\n",
      "\n",
      "The following object is masked from ‘package:dplyr’:\n",
      "\n",
      "    matches\n",
      "\n",
      "\n",
      "The following object is masked from ‘package:purrr’:\n",
      "\n",
      "    is_null\n",
      "\n",
      "\n",
      "The following objects are masked from ‘package:readr’:\n",
      "\n",
      "    edition_get, local_edition\n",
      "\n",
      "\n",
      "The following object is masked from ‘package:tidyr’:\n",
      "\n",
      "    matches\n",
      "\n",
      "\n",
      "── \u001b[1mAttaching packages\u001b[22m ────────────────────────────────────── tidymodels 1.0.0 ──\n",
      "\n",
      "\u001b[32m✔\u001b[39m \u001b[34mbroom       \u001b[39m 1.0.0     \u001b[32m✔\u001b[39m \u001b[34mrsample     \u001b[39m 1.0.0\n",
      "\u001b[32m✔\u001b[39m \u001b[34mdials       \u001b[39m 1.0.0     \u001b[32m✔\u001b[39m \u001b[34mtune        \u001b[39m 1.0.0\n",
      "\u001b[32m✔\u001b[39m \u001b[34minfer       \u001b[39m 1.0.2     \u001b[32m✔\u001b[39m \u001b[34mworkflows   \u001b[39m 1.0.0\n",
      "\u001b[32m✔\u001b[39m \u001b[34mmodeldata   \u001b[39m 1.0.0     \u001b[32m✔\u001b[39m \u001b[34mworkflowsets\u001b[39m 1.0.0\n",
      "\u001b[32m✔\u001b[39m \u001b[34mparsnip     \u001b[39m 1.0.0     \u001b[32m✔\u001b[39m \u001b[34myardstick   \u001b[39m 1.0.0\n",
      "\u001b[32m✔\u001b[39m \u001b[34mrecipes     \u001b[39m 1.0.1     \n",
      "\n",
      "── \u001b[1mConflicts\u001b[22m ───────────────────────────────────────── tidymodels_conflicts() ──\n",
      "\u001b[31m✖\u001b[39m \u001b[34mscales\u001b[39m::\u001b[32mdiscard()\u001b[39m   masks \u001b[34mpurrr\u001b[39m::discard()\n",
      "\u001b[31m✖\u001b[39m \u001b[34mdplyr\u001b[39m::\u001b[32mfilter()\u001b[39m     masks \u001b[34mstats\u001b[39m::filter()\n",
      "\u001b[31m✖\u001b[39m \u001b[34mrecipes\u001b[39m::\u001b[32mfixed()\u001b[39m    masks \u001b[34mstringr\u001b[39m::fixed()\n",
      "\u001b[31m✖\u001b[39m \u001b[34mtestthat\u001b[39m::\u001b[32mis_null()\u001b[39m masks \u001b[34mpurrr\u001b[39m::is_null()\n",
      "\u001b[31m✖\u001b[39m \u001b[34mdplyr\u001b[39m::\u001b[32mlag()\u001b[39m        masks \u001b[34mstats\u001b[39m::lag()\n",
      "\u001b[31m✖\u001b[39m \u001b[34mrsample\u001b[39m::\u001b[32mmatches()\u001b[39m  masks \u001b[34mtestthat\u001b[39m::matches(), \u001b[34mdplyr\u001b[39m::matches(), \u001b[34mtidyr\u001b[39m::matches()\n",
      "\u001b[31m✖\u001b[39m \u001b[34myardstick\u001b[39m::\u001b[32mspec()\u001b[39m   masks \u001b[34mreadr\u001b[39m::spec()\n",
      "\u001b[31m✖\u001b[39m \u001b[34mrecipes\u001b[39m::\u001b[32mstep()\u001b[39m     masks \u001b[34mstats\u001b[39m::step()\n",
      "\u001b[34m•\u001b[39m Learn how to get started at \u001b[32mhttps://www.tidymodels.org/start/\u001b[39m\n",
      "\n",
      "\n",
      "Attaching package: ‘RCurl’\n",
      "\n",
      "\n",
      "The following object is masked from ‘package:tidyr’:\n",
      "\n",
      "    complete\n",
      "\n",
      "\n"
     ]
    }
   ],
   "source": [
    "library(tidyverse)\n",
    "library(testthat)\n",
    "library(digest)\n",
    "library(repr)\n",
    "library(tidymodels)\n",
    "library(RCurl)\n",
    "options(repr.matrix.max.rows = 6)"
   ]
  },
  {
   "cell_type": "markdown",
   "id": "78902b92-abea-41b2-8bde-4347a5141876",
   "metadata": {},
   "source": [
    "## Introduction"
   ]
  },
  {
   "cell_type": "markdown",
   "id": "6e947bd1-a499-470c-9f0a-e792f24a49d0",
   "metadata": {},
   "source": [
    "Auditing is a critical process that protects the financial interests of a certain company. Auditing firms examine various documents and books of accounts to avoid fraudulent behaviour and errors in general. Auditors confirm that companies are lawfully orchestrating their business transactions through a series of interviews and record checks. They produce and share their findings with the company and expect an action plan from the company moving forward. To analyze a company’s records, classification methods using R can predict if a company is likely fraudulent or not. The dataset used is a multivariate dataset with audit data from 777 firms during 2015 to 2016. This data can help answer the question: Is inherent risk a good predictor in predicting fraudulent behaviour of a company?"
   ]
  },
  {
   "cell_type": "markdown",
   "id": "23d62950-a9e9-421d-adcc-f31cf9e7d594",
   "metadata": {},
   "source": [
    "## Preliminary exploratory data analysis"
   ]
  },
  {
   "cell_type": "code",
   "execution_count": 3,
   "id": "4e46fca1-5fd5-46e3-9f8b-cceeedccad76",
   "metadata": {},
   "outputs": [
    {
     "data": {
      "text/html": [
       "<table class=\"dataframe\">\n",
       "<caption>A data.frame: 776 × 27</caption>\n",
       "<thead>\n",
       "\t<tr><th scope=col>Sector_score</th><th scope=col>LOCATION_ID</th><th scope=col>PARA_A</th><th scope=col>Score_A</th><th scope=col>Risk_A</th><th scope=col>PARA_B</th><th scope=col>Score_B</th><th scope=col>Risk_B</th><th scope=col>TOTAL</th><th scope=col>numbers</th><th scope=col>⋯</th><th scope=col>RiSk_E</th><th scope=col>History</th><th scope=col>Prob</th><th scope=col>Risk_F</th><th scope=col>Score</th><th scope=col>Inherent_Risk</th><th scope=col>CONTROL_RISK</th><th scope=col>Detection_Risk</th><th scope=col>Audit_Risk</th><th scope=col>Risk</th></tr>\n",
       "\t<tr><th scope=col>&lt;dbl&gt;</th><th scope=col>&lt;chr&gt;</th><th scope=col>&lt;dbl&gt;</th><th scope=col>&lt;dbl&gt;</th><th scope=col>&lt;dbl&gt;</th><th scope=col>&lt;dbl&gt;</th><th scope=col>&lt;dbl&gt;</th><th scope=col>&lt;dbl&gt;</th><th scope=col>&lt;dbl&gt;</th><th scope=col>&lt;dbl&gt;</th><th scope=col>⋯</th><th scope=col>&lt;dbl&gt;</th><th scope=col>&lt;int&gt;</th><th scope=col>&lt;dbl&gt;</th><th scope=col>&lt;dbl&gt;</th><th scope=col>&lt;dbl&gt;</th><th scope=col>&lt;dbl&gt;</th><th scope=col>&lt;dbl&gt;</th><th scope=col>&lt;dbl&gt;</th><th scope=col>&lt;dbl&gt;</th><th scope=col>&lt;int&gt;</th></tr>\n",
       "</thead>\n",
       "<tbody>\n",
       "\t<tr><td>3.89</td><td>23</td><td>4.18</td><td>0.6</td><td>2.508</td><td>2.50</td><td>0.2</td><td>0.500</td><td>6.68</td><td>5</td><td>⋯</td><td>0.4</td><td>0</td><td>0.2</td><td>0</td><td>2.4</td><td>8.574</td><td>0.4</td><td>0.5</td><td>1.7148</td><td>1</td></tr>\n",
       "\t<tr><td>3.89</td><td>6 </td><td>0.00</td><td>0.2</td><td>0.000</td><td>4.83</td><td>0.2</td><td>0.966</td><td>4.83</td><td>5</td><td>⋯</td><td>0.4</td><td>0</td><td>0.2</td><td>0</td><td>2.0</td><td>2.554</td><td>0.4</td><td>0.5</td><td>0.5108</td><td>0</td></tr>\n",
       "\t<tr><td>3.89</td><td>6 </td><td>0.51</td><td>0.2</td><td>0.102</td><td>0.23</td><td>0.2</td><td>0.046</td><td>0.74</td><td>5</td><td>⋯</td><td>0.4</td><td>0</td><td>0.2</td><td>0</td><td>2.0</td><td>1.548</td><td>0.4</td><td>0.5</td><td>0.3096</td><td>0</td></tr>\n",
       "\t<tr><td>⋮</td><td>⋮</td><td>⋮</td><td>⋮</td><td>⋮</td><td>⋮</td><td>⋮</td><td>⋮</td><td>⋮</td><td>⋮</td><td>⋱</td><td>⋮</td><td>⋮</td><td>⋮</td><td>⋮</td><td>⋮</td><td>⋮</td><td>⋮</td><td>⋮</td><td>⋮</td><td>⋮</td></tr>\n",
       "\t<tr><td>55.57</td><td>14</td><td>0.24</td><td>0.2</td><td>0.048</td><td>0.04</td><td>0.2</td><td>0.008</td><td>0.28</td><td>5</td><td>⋯</td><td>0.4</td><td>0</td><td>0.2</td><td>0</td><td>2</td><td>1.456</td><td>0.4</td><td>0.5</td><td>0.2912</td><td>0</td></tr>\n",
       "\t<tr><td>55.57</td><td>18</td><td>0.20</td><td>0.2</td><td>0.040</td><td>0.00</td><td>0.2</td><td>0.000</td><td>0.20</td><td>5</td><td>⋯</td><td>0.4</td><td>0</td><td>0.2</td><td>0</td><td>2</td><td>1.440</td><td>0.4</td><td>0.5</td><td>0.2880</td><td>0</td></tr>\n",
       "\t<tr><td>55.57</td><td>15</td><td>0.00</td><td>0.2</td><td>0.000</td><td>0.00</td><td>0.2</td><td>0.000</td><td>0.00</td><td>5</td><td>⋯</td><td>0.4</td><td>0</td><td>0.2</td><td>0</td><td>2</td><td>1.464</td><td>0.4</td><td>0.5</td><td>0.2928</td><td>0</td></tr>\n",
       "</tbody>\n",
       "</table>\n"
      ],
      "text/latex": [
       "A data.frame: 776 × 27\n",
       "\\begin{tabular}{lllllllllllllllllllll}\n",
       " Sector\\_score & LOCATION\\_ID & PARA\\_A & Score\\_A & Risk\\_A & PARA\\_B & Score\\_B & Risk\\_B & TOTAL & numbers & ⋯ & RiSk\\_E & History & Prob & Risk\\_F & Score & Inherent\\_Risk & CONTROL\\_RISK & Detection\\_Risk & Audit\\_Risk & Risk\\\\\n",
       " <dbl> & <chr> & <dbl> & <dbl> & <dbl> & <dbl> & <dbl> & <dbl> & <dbl> & <dbl> & ⋯ & <dbl> & <int> & <dbl> & <dbl> & <dbl> & <dbl> & <dbl> & <dbl> & <dbl> & <int>\\\\\n",
       "\\hline\n",
       "\t 3.89 & 23 & 4.18 & 0.6 & 2.508 & 2.50 & 0.2 & 0.500 & 6.68 & 5 & ⋯ & 0.4 & 0 & 0.2 & 0 & 2.4 & 8.574 & 0.4 & 0.5 & 1.7148 & 1\\\\\n",
       "\t 3.89 & 6  & 0.00 & 0.2 & 0.000 & 4.83 & 0.2 & 0.966 & 4.83 & 5 & ⋯ & 0.4 & 0 & 0.2 & 0 & 2.0 & 2.554 & 0.4 & 0.5 & 0.5108 & 0\\\\\n",
       "\t 3.89 & 6  & 0.51 & 0.2 & 0.102 & 0.23 & 0.2 & 0.046 & 0.74 & 5 & ⋯ & 0.4 & 0 & 0.2 & 0 & 2.0 & 1.548 & 0.4 & 0.5 & 0.3096 & 0\\\\\n",
       "\t ⋮ & ⋮ & ⋮ & ⋮ & ⋮ & ⋮ & ⋮ & ⋮ & ⋮ & ⋮ & ⋱ & ⋮ & ⋮ & ⋮ & ⋮ & ⋮ & ⋮ & ⋮ & ⋮ & ⋮ & ⋮\\\\\n",
       "\t 55.57 & 14 & 0.24 & 0.2 & 0.048 & 0.04 & 0.2 & 0.008 & 0.28 & 5 & ⋯ & 0.4 & 0 & 0.2 & 0 & 2 & 1.456 & 0.4 & 0.5 & 0.2912 & 0\\\\\n",
       "\t 55.57 & 18 & 0.20 & 0.2 & 0.040 & 0.00 & 0.2 & 0.000 & 0.20 & 5 & ⋯ & 0.4 & 0 & 0.2 & 0 & 2 & 1.440 & 0.4 & 0.5 & 0.2880 & 0\\\\\n",
       "\t 55.57 & 15 & 0.00 & 0.2 & 0.000 & 0.00 & 0.2 & 0.000 & 0.00 & 5 & ⋯ & 0.4 & 0 & 0.2 & 0 & 2 & 1.464 & 0.4 & 0.5 & 0.2928 & 0\\\\\n",
       "\\end{tabular}\n"
      ],
      "text/markdown": [
       "\n",
       "A data.frame: 776 × 27\n",
       "\n",
       "| Sector_score &lt;dbl&gt; | LOCATION_ID &lt;chr&gt; | PARA_A &lt;dbl&gt; | Score_A &lt;dbl&gt; | Risk_A &lt;dbl&gt; | PARA_B &lt;dbl&gt; | Score_B &lt;dbl&gt; | Risk_B &lt;dbl&gt; | TOTAL &lt;dbl&gt; | numbers &lt;dbl&gt; | ⋯ ⋯ | RiSk_E &lt;dbl&gt; | History &lt;int&gt; | Prob &lt;dbl&gt; | Risk_F &lt;dbl&gt; | Score &lt;dbl&gt; | Inherent_Risk &lt;dbl&gt; | CONTROL_RISK &lt;dbl&gt; | Detection_Risk &lt;dbl&gt; | Audit_Risk &lt;dbl&gt; | Risk &lt;int&gt; |\n",
       "|---|---|---|---|---|---|---|---|---|---|---|---|---|---|---|---|---|---|---|---|---|\n",
       "| 3.89 | 23 | 4.18 | 0.6 | 2.508 | 2.50 | 0.2 | 0.500 | 6.68 | 5 | ⋯ | 0.4 | 0 | 0.2 | 0 | 2.4 | 8.574 | 0.4 | 0.5 | 1.7148 | 1 |\n",
       "| 3.89 | 6  | 0.00 | 0.2 | 0.000 | 4.83 | 0.2 | 0.966 | 4.83 | 5 | ⋯ | 0.4 | 0 | 0.2 | 0 | 2.0 | 2.554 | 0.4 | 0.5 | 0.5108 | 0 |\n",
       "| 3.89 | 6  | 0.51 | 0.2 | 0.102 | 0.23 | 0.2 | 0.046 | 0.74 | 5 | ⋯ | 0.4 | 0 | 0.2 | 0 | 2.0 | 1.548 | 0.4 | 0.5 | 0.3096 | 0 |\n",
       "| ⋮ | ⋮ | ⋮ | ⋮ | ⋮ | ⋮ | ⋮ | ⋮ | ⋮ | ⋮ | ⋱ | ⋮ | ⋮ | ⋮ | ⋮ | ⋮ | ⋮ | ⋮ | ⋮ | ⋮ | ⋮ |\n",
       "| 55.57 | 14 | 0.24 | 0.2 | 0.048 | 0.04 | 0.2 | 0.008 | 0.28 | 5 | ⋯ | 0.4 | 0 | 0.2 | 0 | 2 | 1.456 | 0.4 | 0.5 | 0.2912 | 0 |\n",
       "| 55.57 | 18 | 0.20 | 0.2 | 0.040 | 0.00 | 0.2 | 0.000 | 0.20 | 5 | ⋯ | 0.4 | 0 | 0.2 | 0 | 2 | 1.440 | 0.4 | 0.5 | 0.2880 | 0 |\n",
       "| 55.57 | 15 | 0.00 | 0.2 | 0.000 | 0.00 | 0.2 | 0.000 | 0.00 | 5 | ⋯ | 0.4 | 0 | 0.2 | 0 | 2 | 1.464 | 0.4 | 0.5 | 0.2928 | 0 |\n",
       "\n"
      ],
      "text/plain": [
       "    Sector_score LOCATION_ID PARA_A Score_A Risk_A PARA_B Score_B Risk_B TOTAL\n",
       "1   3.89         23          4.18   0.6     2.508  2.50   0.2     0.500  6.68 \n",
       "2   3.89         6           0.00   0.2     0.000  4.83   0.2     0.966  4.83 \n",
       "3   3.89         6           0.51   0.2     0.102  0.23   0.2     0.046  0.74 \n",
       "⋮   ⋮            ⋮           ⋮      ⋮       ⋮      ⋮      ⋮       ⋮      ⋮    \n",
       "774 55.57        14          0.24   0.2     0.048  0.04   0.2     0.008  0.28 \n",
       "775 55.57        18          0.20   0.2     0.040  0.00   0.2     0.000  0.20 \n",
       "776 55.57        15          0.00   0.2     0.000  0.00   0.2     0.000  0.00 \n",
       "    numbers ⋯ RiSk_E History Prob Risk_F Score Inherent_Risk CONTROL_RISK\n",
       "1   5       ⋯ 0.4    0       0.2  0      2.4   8.574         0.4         \n",
       "2   5       ⋯ 0.4    0       0.2  0      2.0   2.554         0.4         \n",
       "3   5       ⋯ 0.4    0       0.2  0      2.0   1.548         0.4         \n",
       "⋮   ⋮       ⋱ ⋮      ⋮       ⋮    ⋮      ⋮     ⋮             ⋮           \n",
       "774 5       ⋯ 0.4    0       0.2  0      2     1.456         0.4         \n",
       "775 5       ⋯ 0.4    0       0.2  0      2     1.440         0.4         \n",
       "776 5       ⋯ 0.4    0       0.2  0      2     1.464         0.4         \n",
       "    Detection_Risk Audit_Risk Risk\n",
       "1   0.5            1.7148     1   \n",
       "2   0.5            0.5108     0   \n",
       "3   0.5            0.3096     0   \n",
       "⋮   ⋮              ⋮          ⋮   \n",
       "774 0.5            0.2912     0   \n",
       "775 0.5            0.2880     0   \n",
       "776 0.5            0.2928     0   "
      ]
     },
     "metadata": {},
     "output_type": "display_data"
    },
    {
     "data": {
      "text/html": [
       "<table class=\"dataframe\">\n",
       "<caption>A data.frame: 776 × 8</caption>\n",
       "<thead>\n",
       "\t<tr><th scope=col>ID</th><th scope=col>Score</th><th scope=col>Money_Value</th><th scope=col>Inherent_Risk</th><th scope=col>CONTROL_RISK</th><th scope=col>Detection_Risk</th><th scope=col>Audit_Risk</th><th scope=col>Risk</th></tr>\n",
       "\t<tr><th scope=col>&lt;int&gt;</th><th scope=col>&lt;dbl&gt;</th><th scope=col>&lt;dbl&gt;</th><th scope=col>&lt;dbl&gt;</th><th scope=col>&lt;dbl&gt;</th><th scope=col>&lt;dbl&gt;</th><th scope=col>&lt;dbl&gt;</th><th scope=col>&lt;int&gt;</th></tr>\n",
       "</thead>\n",
       "<tbody>\n",
       "\t<tr><td>1</td><td>2.4</td><td>3.38</td><td>8.574</td><td>0.4</td><td>0.5</td><td>1.7148</td><td>1</td></tr>\n",
       "\t<tr><td>2</td><td>2.0</td><td>0.94</td><td>2.554</td><td>0.4</td><td>0.5</td><td>0.5108</td><td>0</td></tr>\n",
       "\t<tr><td>3</td><td>2.0</td><td>0.00</td><td>1.548</td><td>0.4</td><td>0.5</td><td>0.3096</td><td>0</td></tr>\n",
       "\t<tr><td>⋮</td><td>⋮</td><td>⋮</td><td>⋮</td><td>⋮</td><td>⋮</td><td>⋮</td><td>⋮</td></tr>\n",
       "\t<tr><td>774</td><td>2</td><td>0.00</td><td>1.456</td><td>0.4</td><td>0.5</td><td>0.2912</td><td>0</td></tr>\n",
       "\t<tr><td>775</td><td>2</td><td>0.00</td><td>1.440</td><td>0.4</td><td>0.5</td><td>0.2880</td><td>0</td></tr>\n",
       "\t<tr><td>776</td><td>2</td><td>0.32</td><td>1.464</td><td>0.4</td><td>0.5</td><td>0.2928</td><td>0</td></tr>\n",
       "</tbody>\n",
       "</table>\n"
      ],
      "text/latex": [
       "A data.frame: 776 × 8\n",
       "\\begin{tabular}{llllllll}\n",
       " ID & Score & Money\\_Value & Inherent\\_Risk & CONTROL\\_RISK & Detection\\_Risk & Audit\\_Risk & Risk\\\\\n",
       " <int> & <dbl> & <dbl> & <dbl> & <dbl> & <dbl> & <dbl> & <int>\\\\\n",
       "\\hline\n",
       "\t 1 & 2.4 & 3.38 & 8.574 & 0.4 & 0.5 & 1.7148 & 1\\\\\n",
       "\t 2 & 2.0 & 0.94 & 2.554 & 0.4 & 0.5 & 0.5108 & 0\\\\\n",
       "\t 3 & 2.0 & 0.00 & 1.548 & 0.4 & 0.5 & 0.3096 & 0\\\\\n",
       "\t ⋮ & ⋮ & ⋮ & ⋮ & ⋮ & ⋮ & ⋮ & ⋮\\\\\n",
       "\t 774 & 2 & 0.00 & 1.456 & 0.4 & 0.5 & 0.2912 & 0\\\\\n",
       "\t 775 & 2 & 0.00 & 1.440 & 0.4 & 0.5 & 0.2880 & 0\\\\\n",
       "\t 776 & 2 & 0.32 & 1.464 & 0.4 & 0.5 & 0.2928 & 0\\\\\n",
       "\\end{tabular}\n"
      ],
      "text/markdown": [
       "\n",
       "A data.frame: 776 × 8\n",
       "\n",
       "| ID &lt;int&gt; | Score &lt;dbl&gt; | Money_Value &lt;dbl&gt; | Inherent_Risk &lt;dbl&gt; | CONTROL_RISK &lt;dbl&gt; | Detection_Risk &lt;dbl&gt; | Audit_Risk &lt;dbl&gt; | Risk &lt;int&gt; |\n",
       "|---|---|---|---|---|---|---|---|\n",
       "| 1 | 2.4 | 3.38 | 8.574 | 0.4 | 0.5 | 1.7148 | 1 |\n",
       "| 2 | 2.0 | 0.94 | 2.554 | 0.4 | 0.5 | 0.5108 | 0 |\n",
       "| 3 | 2.0 | 0.00 | 1.548 | 0.4 | 0.5 | 0.3096 | 0 |\n",
       "| ⋮ | ⋮ | ⋮ | ⋮ | ⋮ | ⋮ | ⋮ | ⋮ |\n",
       "| 774 | 2 | 0.00 | 1.456 | 0.4 | 0.5 | 0.2912 | 0 |\n",
       "| 775 | 2 | 0.00 | 1.440 | 0.4 | 0.5 | 0.2880 | 0 |\n",
       "| 776 | 2 | 0.32 | 1.464 | 0.4 | 0.5 | 0.2928 | 0 |\n",
       "\n"
      ],
      "text/plain": [
       "    ID  Score Money_Value Inherent_Risk CONTROL_RISK Detection_Risk Audit_Risk\n",
       "1   1   2.4   3.38        8.574         0.4          0.5            1.7148    \n",
       "2   2   2.0   0.94        2.554         0.4          0.5            0.5108    \n",
       "3   3   2.0   0.00        1.548         0.4          0.5            0.3096    \n",
       "⋮   ⋮   ⋮     ⋮           ⋮             ⋮            ⋮              ⋮         \n",
       "774 774 2     0.00        1.456         0.4          0.5            0.2912    \n",
       "775 775 2     0.00        1.440         0.4          0.5            0.2880    \n",
       "776 776 2     0.32        1.464         0.4          0.5            0.2928    \n",
       "    Risk\n",
       "1   1   \n",
       "2   0   \n",
       "3   0   \n",
       "⋮   ⋮   \n",
       "774 0   \n",
       "775 0   \n",
       "776 0   "
      ]
     },
     "metadata": {},
     "output_type": "display_data"
    }
   ],
   "source": [
    "\n",
    "\n",
    "\n",
    "\n",
    "audit_risk<- read.csv(\"https://raw.githubusercontent.com/RofiaChen555/dsci-100-group-project/main/data/audit_risk.csv\")\n",
    "audit_risk\n",
    "\n",
    "risk_dataset <- select(audit_risk, Score, Money_Value, Inherent_Risk, CONTROL_RISK, Detection_Risk, Audit_Risk, Risk)\n",
    "risk_dataset <- tibble::rowid_to_column(risk_dataset, \"ID\")\n",
    "risk_dataset"
   ]
  },
  {
   "cell_type": "code",
   "execution_count": 4,
   "id": "e699228a-f59a-42a1-b986-eb786629602d",
   "metadata": {},
   "outputs": [],
   "source": [
    "set.seed(2022)\n",
    "audit_risk_split <- initial_split(risk_dataset, prop = 0.75, strata = Risk)\n",
    "audit_risk_train <- training(audit_risk_split)\n",
    "audit_risk_test <- testing(audit_risk_split)"
   ]
  },
  {
   "cell_type": "code",
   "execution_count": 7,
   "id": "144eda9a-23f6-481a-ad8d-2add2df32ced",
   "metadata": {},
   "outputs": [
    {
     "data": {
      "text/html": [
       "<table class=\"dataframe\">\n",
       "<caption>A data.frame: 581 × 8</caption>\n",
       "<thead>\n",
       "\t<tr><th></th><th scope=col>ID</th><th scope=col>Score</th><th scope=col>Money_Value</th><th scope=col>Inherent_Risk</th><th scope=col>CONTROL_RISK</th><th scope=col>Detection_Risk</th><th scope=col>Audit_Risk</th><th scope=col>Risk</th></tr>\n",
       "\t<tr><th></th><th scope=col>&lt;int&gt;</th><th scope=col>&lt;dbl&gt;</th><th scope=col>&lt;dbl&gt;</th><th scope=col>&lt;dbl&gt;</th><th scope=col>&lt;dbl&gt;</th><th scope=col>&lt;dbl&gt;</th><th scope=col>&lt;dbl&gt;</th><th scope=col>&lt;int&gt;</th></tr>\n",
       "</thead>\n",
       "<tbody>\n",
       "\t<tr><th scope=row>2</th><td>2</td><td>2</td><td>0.94</td><td>2.554</td><td>0.4</td><td>0.5</td><td>0.5108</td><td>0</td></tr>\n",
       "\t<tr><th scope=row>5</th><td>5</td><td>2</td><td>0.00</td><td>1.416</td><td>0.4</td><td>0.5</td><td>0.2832</td><td>0</td></tr>\n",
       "\t<tr><th scope=row>6</th><td>6</td><td>2</td><td>2.95</td><td>2.156</td><td>0.4</td><td>0.5</td><td>0.4312</td><td>0</td></tr>\n",
       "\t<tr><th scope=row>⋮</th><td>⋮</td><td>⋮</td><td>⋮</td><td>⋮</td><td>⋮</td><td>⋮</td><td>⋮</td><td>⋮</td></tr>\n",
       "\t<tr><th scope=row>717</th><td>717</td><td>2.4</td><td>0.00</td><td>2.20</td><td>1.2</td><td>0.5</td><td>1.320</td><td>1</td></tr>\n",
       "\t<tr><th scope=row>718</th><td>718</td><td>2.6</td><td>0.90</td><td>2.93</td><td>1.2</td><td>0.5</td><td>1.758</td><td>1</td></tr>\n",
       "\t<tr><th scope=row>725</th><td>725</td><td>3.2</td><td>0.43</td><td>6.58</td><td>0.4</td><td>0.5</td><td>1.316</td><td>1</td></tr>\n",
       "</tbody>\n",
       "</table>\n"
      ],
      "text/latex": [
       "A data.frame: 581 × 8\n",
       "\\begin{tabular}{r|llllllll}\n",
       "  & ID & Score & Money\\_Value & Inherent\\_Risk & CONTROL\\_RISK & Detection\\_Risk & Audit\\_Risk & Risk\\\\\n",
       "  & <int> & <dbl> & <dbl> & <dbl> & <dbl> & <dbl> & <dbl> & <int>\\\\\n",
       "\\hline\n",
       "\t2 & 2 & 2 & 0.94 & 2.554 & 0.4 & 0.5 & 0.5108 & 0\\\\\n",
       "\t5 & 5 & 2 & 0.00 & 1.416 & 0.4 & 0.5 & 0.2832 & 0\\\\\n",
       "\t6 & 6 & 2 & 2.95 & 2.156 & 0.4 & 0.5 & 0.4312 & 0\\\\\n",
       "\t⋮ & ⋮ & ⋮ & ⋮ & ⋮ & ⋮ & ⋮ & ⋮ & ⋮\\\\\n",
       "\t717 & 717 & 2.4 & 0.00 & 2.20 & 1.2 & 0.5 & 1.320 & 1\\\\\n",
       "\t718 & 718 & 2.6 & 0.90 & 2.93 & 1.2 & 0.5 & 1.758 & 1\\\\\n",
       "\t725 & 725 & 3.2 & 0.43 & 6.58 & 0.4 & 0.5 & 1.316 & 1\\\\\n",
       "\\end{tabular}\n"
      ],
      "text/markdown": [
       "\n",
       "A data.frame: 581 × 8\n",
       "\n",
       "| <!--/--> | ID &lt;int&gt; | Score &lt;dbl&gt; | Money_Value &lt;dbl&gt; | Inherent_Risk &lt;dbl&gt; | CONTROL_RISK &lt;dbl&gt; | Detection_Risk &lt;dbl&gt; | Audit_Risk &lt;dbl&gt; | Risk &lt;int&gt; |\n",
       "|---|---|---|---|---|---|---|---|---|\n",
       "| 2 | 2 | 2 | 0.94 | 2.554 | 0.4 | 0.5 | 0.5108 | 0 |\n",
       "| 5 | 5 | 2 | 0.00 | 1.416 | 0.4 | 0.5 | 0.2832 | 0 |\n",
       "| 6 | 6 | 2 | 2.95 | 2.156 | 0.4 | 0.5 | 0.4312 | 0 |\n",
       "| ⋮ | ⋮ | ⋮ | ⋮ | ⋮ | ⋮ | ⋮ | ⋮ | ⋮ |\n",
       "| 717 | 717 | 2.4 | 0.00 | 2.20 | 1.2 | 0.5 | 1.320 | 1 |\n",
       "| 718 | 718 | 2.6 | 0.90 | 2.93 | 1.2 | 0.5 | 1.758 | 1 |\n",
       "| 725 | 725 | 3.2 | 0.43 | 6.58 | 0.4 | 0.5 | 1.316 | 1 |\n",
       "\n"
      ],
      "text/plain": [
       "    ID  Score Money_Value Inherent_Risk CONTROL_RISK Detection_Risk Audit_Risk\n",
       "2   2   2     0.94        2.554         0.4          0.5            0.5108    \n",
       "5   5   2     0.00        1.416         0.4          0.5            0.2832    \n",
       "6   6   2     2.95        2.156         0.4          0.5            0.4312    \n",
       "⋮   ⋮   ⋮     ⋮           ⋮             ⋮            ⋮              ⋮         \n",
       "717 717 2.4   0.00        2.20          1.2          0.5            1.320     \n",
       "718 718 2.6   0.90        2.93          1.2          0.5            1.758     \n",
       "725 725 3.2   0.43        6.58          0.4          0.5            1.316     \n",
       "    Risk\n",
       "2   0   \n",
       "5   0   \n",
       "6   0   \n",
       "⋮   ⋮   \n",
       "717 1   \n",
       "718 1   \n",
       "725 1   "
      ]
     },
     "metadata": {},
     "output_type": "display_data"
    },
    {
     "data": {
      "text/html": [
       "581"
      ],
      "text/latex": [
       "581"
      ],
      "text/markdown": [
       "581"
      ],
      "text/plain": [
       "[1] 581"
      ]
     },
     "metadata": {},
     "output_type": "display_data"
    },
    {
     "data": {
      "text/html": [
       "<table class=\"dataframe\">\n",
       "<caption>A tibble: 2 × 3</caption>\n",
       "<thead>\n",
       "\t<tr><th scope=col>Risk</th><th scope=col>n</th><th scope=col>precentage</th></tr>\n",
       "\t<tr><th scope=col>&lt;int&gt;</th><th scope=col>&lt;int&gt;</th><th scope=col>&lt;dbl&gt;</th></tr>\n",
       "</thead>\n",
       "<tbody>\n",
       "\t<tr><td>0</td><td>353</td><td>60.75731</td></tr>\n",
       "\t<tr><td>1</td><td>228</td><td>39.24269</td></tr>\n",
       "</tbody>\n",
       "</table>\n"
      ],
      "text/latex": [
       "A tibble: 2 × 3\n",
       "\\begin{tabular}{lll}\n",
       " Risk & n & precentage\\\\\n",
       " <int> & <int> & <dbl>\\\\\n",
       "\\hline\n",
       "\t 0 & 353 & 60.75731\\\\\n",
       "\t 1 & 228 & 39.24269\\\\\n",
       "\\end{tabular}\n"
      ],
      "text/markdown": [
       "\n",
       "A tibble: 2 × 3\n",
       "\n",
       "| Risk &lt;int&gt; | n &lt;int&gt; | precentage &lt;dbl&gt; |\n",
       "|---|---|---|\n",
       "| 0 | 353 | 60.75731 |\n",
       "| 1 | 228 | 39.24269 |\n",
       "\n"
      ],
      "text/plain": [
       "  Risk n   precentage\n",
       "1 0    353 60.75731  \n",
       "2 1    228 39.24269  "
      ]
     },
     "metadata": {},
     "output_type": "display_data"
    },
    {
     "data": {
      "text/html": [
       "<table class=\"dataframe\">\n",
       "<caption>A data.frame: 1 × 2</caption>\n",
       "<thead>\n",
       "\t<tr><th scope=col>score_min</th><th scope=col>score_max</th></tr>\n",
       "\t<tr><th scope=col>&lt;dbl&gt;</th><th scope=col>&lt;dbl&gt;</th></tr>\n",
       "</thead>\n",
       "<tbody>\n",
       "\t<tr><td>2</td><td>5.2</td></tr>\n",
       "</tbody>\n",
       "</table>\n"
      ],
      "text/latex": [
       "A data.frame: 1 × 2\n",
       "\\begin{tabular}{ll}\n",
       " score\\_min & score\\_max\\\\\n",
       " <dbl> & <dbl>\\\\\n",
       "\\hline\n",
       "\t 2 & 5.2\\\\\n",
       "\\end{tabular}\n"
      ],
      "text/markdown": [
       "\n",
       "A data.frame: 1 × 2\n",
       "\n",
       "| score_min &lt;dbl&gt; | score_max &lt;dbl&gt; |\n",
       "|---|---|\n",
       "| 2 | 5.2 |\n",
       "\n"
      ],
      "text/plain": [
       "  score_min score_max\n",
       "1 2         5.2      "
      ]
     },
     "metadata": {},
     "output_type": "display_data"
    },
    {
     "data": {
      "text/html": [
       "<table class=\"dataframe\">\n",
       "<caption>A data.frame: 1 × 1</caption>\n",
       "<thead>\n",
       "\t<tr><th scope=col>mean(Score)</th></tr>\n",
       "\t<tr><th scope=col>&lt;dbl&gt;</th></tr>\n",
       "</thead>\n",
       "<tbody>\n",
       "\t<tr><td>2.706024</td></tr>\n",
       "</tbody>\n",
       "</table>\n"
      ],
      "text/latex": [
       "A data.frame: 1 × 1\n",
       "\\begin{tabular}{l}\n",
       " mean(Score)\\\\\n",
       " <dbl>\\\\\n",
       "\\hline\n",
       "\t 2.706024\\\\\n",
       "\\end{tabular}\n"
      ],
      "text/markdown": [
       "\n",
       "A data.frame: 1 × 1\n",
       "\n",
       "| mean(Score) &lt;dbl&gt; |\n",
       "|---|\n",
       "| 2.706024 |\n",
       "\n"
      ],
      "text/plain": [
       "  mean(Score)\n",
       "1 2.706024   "
      ]
     },
     "metadata": {},
     "output_type": "display_data"
    },
    {
     "name": "stderr",
     "output_type": "stream",
     "text": [
      "`stat_bin()` using `bins = 30`. Pick better value with `binwidth`.\n",
      "\n"
     ]
    },
    {
     "data": {
      "image/png": "[encoded data removed]",
      "text/plain": [
       "plot without title"
      ]
     },
     "metadata": {
      "image/png": {
       "height": 480,
       "width": 600
      }
     },
     "output_type": "display_data"
    },
    {
     "data": {
      "text/html": [
       "<table class=\"dataframe\">\n",
       "<caption>A tibble: 2 × 7</caption>\n",
       "<thead>\n",
       "\t<tr><th scope=col>Risk</th><th scope=col>mean_sc</th><th scope=col>mean_mv</th><th scope=col>mean_ir</th><th scope=col>mean_cr</th><th scope=col>mean_dr</th><th scope=col>mean_ar</th></tr>\n",
       "\t<tr><th scope=col>&lt;int&gt;</th><th scope=col>&lt;dbl&gt;</th><th scope=col>&lt;dbl&gt;</th><th scope=col>&lt;dbl&gt;</th><th scope=col>&lt;dbl&gt;</th><th scope=col>&lt;dbl&gt;</th><th scope=col>&lt;dbl&gt;</th></tr>\n",
       "</thead>\n",
       "<tbody>\n",
       "\t<tr><td>0</td><td>2.164873</td><td> 0.3237045</td><td> 1.95416</td><td>0.4226629</td><td>0.5</td><td> 0.4135209</td></tr>\n",
       "\t<tr><td>1</td><td>3.543860</td><td>37.5088596</td><td>44.04568</td><td>0.8122807</td><td>0.5</td><td>18.9642693</td></tr>\n",
       "</tbody>\n",
       "</table>\n"
      ],
      "text/latex": [
       "A tibble: 2 × 7\n",
       "\\begin{tabular}{lllllll}\n",
       " Risk & mean\\_sc & mean\\_mv & mean\\_ir & mean\\_cr & mean\\_dr & mean\\_ar\\\\\n",
       " <int> & <dbl> & <dbl> & <dbl> & <dbl> & <dbl> & <dbl>\\\\\n",
       "\\hline\n",
       "\t 0 & 2.164873 &  0.3237045 &  1.95416 & 0.4226629 & 0.5 &  0.4135209\\\\\n",
       "\t 1 & 3.543860 & 37.5088596 & 44.04568 & 0.8122807 & 0.5 & 18.9642693\\\\\n",
       "\\end{tabular}\n"
      ],
      "text/markdown": [
       "\n",
       "A tibble: 2 × 7\n",
       "\n",
       "| Risk &lt;int&gt; | mean_sc &lt;dbl&gt; | mean_mv &lt;dbl&gt; | mean_ir &lt;dbl&gt; | mean_cr &lt;dbl&gt; | mean_dr &lt;dbl&gt; | mean_ar &lt;dbl&gt; |\n",
       "|---|---|---|---|---|---|---|\n",
       "| 0 | 2.164873 |  0.3237045 |  1.95416 | 0.4226629 | 0.5 |  0.4135209 |\n",
       "| 1 | 3.543860 | 37.5088596 | 44.04568 | 0.8122807 | 0.5 | 18.9642693 |\n",
       "\n"
      ],
      "text/plain": [
       "  Risk mean_sc  mean_mv    mean_ir  mean_cr   mean_dr mean_ar   \n",
       "1 0    2.164873  0.3237045  1.95416 0.4226629 0.5      0.4135209\n",
       "2 1    3.543860 37.5088596 44.04568 0.8122807 0.5     18.9642693"
      ]
     },
     "metadata": {},
     "output_type": "display_data"
    },
    {
     "data": {
      "image/png": "[encoded data removed]",
      "text/plain": [
       "plot without title"
      ]
     },
     "metadata": {
      "image/png": {
       "height": 480,
       "width": 600
      }
     },
     "output_type": "display_data"
    }
   ],
   "source": [
    "audit_risk_train\n",
    "# Number of observations\n",
    "num_obs <- nrow(audit_risk_train)\n",
    "num_obs\n",
    "\n",
    "#Total number and percentage of different type of Risk\n",
    "risk_sum <- audit_risk_train |>\n",
    "group_by(Risk)|>\n",
    "summarize(n = n(), precentage= n() / num_obs * 100) |>\n",
    "arrange(desc(n))\n",
    "risk_sum\n",
    "\n",
    "#Max and min value of the predictor variable (Score)\n",
    "Audit_Risk_score <- summarize(audit_risk_train, score_min = min(Score, na.rm = TRUE),\n",
    "                 score_max = max(Score, na.rm = TRUE))\n",
    "Audit_Risk_score\n",
    "\n",
    "#Mean value of the predictor variable (Score)\n",
    "audit_risk_train |>\n",
    "summarize(mean(Score))\n",
    "\n",
    "#Histogram (Score)\n",
    "options(repr.plot.width = 10, repr.plot.height = 8)\n",
    "audit_risk_hist <- ggplot(audit_risk_train, aes(x = Score, fill = as_factor(Risk))) +\n",
    "                          geom_histogram(alpha = 0.5, position = \"identity\") + \n",
    "ggtitle(\"Histogram of relationship between Risk type and Score\") + theme(text = element_text(size = 18)) \n",
    "audit_risk_hist\n",
    "\n",
    "\n",
    "#Bar plot (Score)\n",
    "audit_risk_barplot <- ggplot(audit_risk_train, aes(x = Score, fill = as_factor(Risk))) +\n",
    "                          geom_bar(alpha = 0.5, position = \"fill\") + \n",
    "ggtitle(\"Barplot of relationship between Risk type and Score\") + theme(text = element_text(size = 18)) \n",
    "audit_risk_barplot\n",
    "\n",
    "summary <- audit_risk_train |>\n",
    "group_by(Risk) |>\n",
    "summarize(mean_sc = mean(Score, na.rm = TRUE),\n",
    "          mean_mv = mean(Money_Value, na.rm = TRUE),\n",
    "mean_ir= mean(Inherent_Risk, na.rm = TRUE),\n",
    "          mean_cr = mean(CONTROL_RISK, na.rm = TRUE),\n",
    "          mean_dr = mean(Detection_Risk, na.rm = TRUE),\n",
    "          mean_ar= mean(Audit_Risk, na.rm = TRUE))\n",
    "summary"
   ]
  },
  {
   "cell_type": "markdown",
   "id": "cf6e9699-91d4-4aec-b4fb-69f811934276",
   "metadata": {},
   "source": [
    "## Methods"
   ]
  },
  {
   "cell_type": "markdown",
   "id": "fcfd13e0-a596-4eb1-9b10-0c3a78afc462",
   "metadata": {},
   "source": [
    "Risk is a class assigned to audit cases, which in the dataset represents whether a company is fraudulent using dummy/binary variable. (0 means not fraudulent; 1 means fraudulent). The goal of the project is to assist the auditors by developing a classification model to determine/predict whether a company is fraudulent or not based on the previous risk factors. To conclude, for this project, Score will be employed as the predictor to determine the fraudulent company, a categorical label.\n",
    "\n",
    "\n",
    "- We will first upload the dataset onto R and read the dataset using read_csv function.\n",
    "\n",
    "- Then, we will start building our classification model by creating the training and testing datasets and splitting the data using 75% of the audit data as our training set and setting Risk as the strata argument.\n",
    "\n",
    "- Next, we’ll use cross-validation with 5 folds on our training data to choose k: \n",
    "Create audit_spec\n",
    "input “kknn” for the model engine and “classification” for the mode.\n",
    "\n",
    "- Create an audit_recipe to preprocess the data \n",
    "recipe(Risk~Score, data = audit_training)\n",
    "scale and centre the predictor\n",
    "\n",
    "- Use vfold_cv function to set v = 5 and strata = audit_risk\n",
    "\n",
    "- Set an an audit_workflow using audit_recipe and audit_spec\n",
    "\n",
    "- Use the tune_grid function to estimate the classifier accuracy for a range of K values\n",
    "\n",
    "- Compute the accuracy\n",
    "audit_test_predictions |>\n",
    "  metrics(truth = Risk, estimate = .pred_class) |>\n",
    "  filter(.metric == \"accuracy\")\n",
    "  \n",
    "- Tuning the classifier\n",
    "generate a tibble with a column called neighbors that contains a sequence value of 1 to #\n",
    "Tune audit_workflow and resamples the cross validation datasets\n",
    "Record the information in a metrics\n",
    "\n",
    "- Create a line plot (with points on it to represent each K) to determine the best K\n",
    "\n",
    "- Fit the audit_training into the workflow\n",
    "\n",
    "- Use the predict function and bind_cols function to predict the result in the test set\n",
    "audit_test_predictions <- predict(knn_fit, audit_test) |>\n",
    "  bind_cols(audit_test)\n",
    "\n",
    "\n",
    "\n"
   ]
  },
  {
   "cell_type": "markdown",
   "id": "56f2fc43-e89e-4951-ab2b-bfb7eea73cae",
   "metadata": {},
   "source": [
    "## Expected outcomes and significance"
   ]
  },
  {
   "cell_type": "markdown",
   "id": "d1e50533-b321-44a0-970b-247e72bea782",
   "metadata": {},
   "source": [
    "It is expected that as money value increases, the risk of fraudulence increases proportionally. This finding can impact bigger corporations, as the more money a company has, the more likely fraudulent behaviour has occurred within the company. However, there are exceptions to this finding - there is a chance that companies with lower money value can still commit fraud. Moreover, it is expected that a company with a score over 2 would be considered fraudulent since score is used to predict risk. This would prompt more audits to occur in these bigger companies to further investigate the likelihood of fraud. To combat the high risk of fraud, how can we monitor these corporations so that fraud is reduced as money value increases? What can governing bodies do to ensure discrepancies in accounts do not go unnoticed? \n"
   ]
  },
  {
   "cell_type": "code",
   "execution_count": null,
   "id": "d1a6c57a-5654-4af6-87cc-28db2e94937b",
   "metadata": {},
   "outputs": [],
   "source": []
  }
 ],
 "metadata": {
  "kernelspec": {
   "display_name": "R",
   "language": "R",
   "name": "ir"
  },
  "language_info": {
   "codemirror_mode": "r",
   "file_extension": ".r",
   "mimetype": "text/x-r-source",
   "name": "R",
   "pygments_lexer": "r",
   "version": "4.1.3"
  }
 },
 "nbformat": 4,
 "nbformat_minor": 5
}
